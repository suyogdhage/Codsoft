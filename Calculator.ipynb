{
 "cells": [
  {
   "cell_type": "code",
   "execution_count": 1,
   "id": "b96b910f",
   "metadata": {},
   "outputs": [
    {
     "name": "stdout",
     "output_type": "stream",
     "text": [
      "Simple Calculator\n",
      "Enter the first number: 25\n",
      "Enter the second number: 25\n",
      "\n",
      "Select operation:\n",
      "1. Addition (+)\n",
      "2. Subtraction (-)\n",
      "3. Multiplication (*)\n",
      "4. Division (/)\n",
      "Enter choice (1/2/3/4): 1\n",
      "\n",
      "Result: 25.0 + 25.0 = 50.0\n"
     ]
    }
   ],
   "source": [
    "def add(x, y):\n",
    "    return x + y\n",
    "\n",
    "def subtract(x, y):\n",
    "    return x - y\n",
    "\n",
    "def multiply(x, y):\n",
    "    return x * y\n",
    "\n",
    "def divide(x, y):\n",
    "    if y != 0:\n",
    "        return x / y\n",
    "    else:\n",
    "        return \"Error: Division by zero\"\n",
    "\n",
    "def calculator():\n",
    "    print(\"Simple Calculator\")\n",
    "\n",
    "    # Input\n",
    "    try:\n",
    "        num1 = float(input(\"Enter the first number: \"))\n",
    "        num2 = float(input(\"Enter the second number: \"))\n",
    "    except ValueError:\n",
    "        print(\"Invalid input. Please enter valid numbers.\")\n",
    "        return\n",
    "\n",
    "    # Operation choice\n",
    "    print(\"\\nSelect operation:\")\n",
    "    print(\"1. Addition (+)\")\n",
    "    print(\"2. Subtraction (-)\")\n",
    "    print(\"3. Multiplication (*)\")\n",
    "    print(\"4. Division (/)\")\n",
    "\n",
    "    choice = input(\"Enter choice (1/2/3/4): \")\n",
    "\n",
    "    # Perform calculation\n",
    "    if choice == '1':\n",
    "        result = add(num1, num2)\n",
    "        operator = \"+\"\n",
    "    elif choice == '2':\n",
    "        result = subtract(num1, num2)\n",
    "        operator = \"-\"\n",
    "    elif choice == '3':\n",
    "        result = multiply(num1, num2)\n",
    "        operator = \"*\"\n",
    "    elif choice == '4':\n",
    "        result = divide(num1, num2)\n",
    "        operator = \"/\"\n",
    "    else:\n",
    "        print(\"Invalid choice. Please enter a valid operation (1/2/3/4).\")\n",
    "        return\n",
    "\n",
    "    # Display result\n",
    "    print(f\"\\nResult: {num1} {operator} {num2} = {result}\")\n",
    "\n",
    "# Run the calculator\n",
    "calculator()\n"
   ]
  },
  {
   "cell_type": "code",
   "execution_count": null,
   "id": "4abaa6a3",
   "metadata": {},
   "outputs": [],
   "source": []
  }
 ],
 "metadata": {
  "kernelspec": {
   "display_name": "Python 3 (ipykernel)",
   "language": "python",
   "name": "python3"
  },
  "language_info": {
   "codemirror_mode": {
    "name": "ipython",
    "version": 3
   },
   "file_extension": ".py",
   "mimetype": "text/x-python",
   "name": "python",
   "nbconvert_exporter": "python",
   "pygments_lexer": "ipython3",
   "version": "3.10.9"
  }
 },
 "nbformat": 4,
 "nbformat_minor": 5
}
