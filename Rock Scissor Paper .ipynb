{
 "cells": [
  {
   "cell_type": "code",
   "execution_count": null,
   "id": "54db6c06",
   "metadata": {},
   "outputs": [],
   "source": [
    "import tkinter as tk\n",
    "from tkinter import messagebox\n",
    "import random\n",
    "\n",
    "def determine_winner(user_choice, computer_choice):\n",
    "    if user_choice == computer_choice:\n",
    "        return \"It's a tie!\"\n",
    "    elif (user_choice == \"rock\" and computer_choice == \"scissors\") or \\\n",
    "         (user_choice == \"scissors\" and computer_choice == \"paper\") or \\\n",
    "         (user_choice == \"paper\" and computer_choice == \"rock\"):\n",
    "        return \"You win!\"\n",
    "    else:\n",
    "        return \"Computer wins!\"\n",
    "\n",
    "def on_choice_selected(choice):\n",
    "    computer_choice = random.choice(choices)\n",
    "    result = determine_winner(choice, computer_choice)\n",
    "    result_label.config(text=f\"Computer chose {computer_choice}. {result}\")\n",
    "    \n",
    "    play_again = messagebox.askyesno(\"Play Again\", \"Do you want to play again?\")\n",
    "    if play_again:\n",
    "        result_label.config(text=\"\")\n",
    "    else:\n",
    "        root.destroy()\n",
    "root = tk.Tk()\n",
    "root.title(\"Rock-Paper-Scissors Game\")\n",
    "instruction_label = tk.Label(root, text=\"Choose rock, paper, or scissors:\")\n",
    "instruction_label.pack(pady=30)\n",
    "\n",
    "choices = [\"rock\", \"paper\", \"scissors\"]\n",
    "for choice in choices:\n",
    "    button = tk.Button(root, text=choice.capitalize(), command=lambda c=choice: on_choice_selected(c))\n",
    "    button.pack(side=tk.LEFT, padx=30)\n",
    "\n",
    "result_label = tk.Label(root, text=\"\")\n",
    "result_label.pack(pady=30)\n",
    "root.mainloop()\n"
   ]
  },
  {
   "cell_type": "code",
   "execution_count": null,
   "id": "20b6cabc",
   "metadata": {},
   "outputs": [],
   "source": []
  }
 ],
 "metadata": {
  "kernelspec": {
   "display_name": "Python 3 (ipykernel)",
   "language": "python",
   "name": "python3"
  },
  "language_info": {
   "codemirror_mode": {
    "name": "ipython",
    "version": 3
   },
   "file_extension": ".py",
   "mimetype": "text/x-python",
   "name": "python",
   "nbconvert_exporter": "python",
   "pygments_lexer": "ipython3",
   "version": "3.10.9"
  }
 },
 "nbformat": 4,
 "nbformat_minor": 5
}
