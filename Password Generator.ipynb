{
 "cells": [
  {
   "cell_type": "code",
   "execution_count": 1,
   "id": "630c3174",
   "metadata": {},
   "outputs": [
    {
     "name": "stdout",
     "output_type": "stream",
     "text": [
      "Password Generator\n",
      "Enter the desired length of the password: 8\n",
      "\n",
      "Generated Password: SVbqj]xr\n"
     ]
    }
   ],
   "source": [
    "import random\n",
    "import string\n",
    "\n",
    "def generate_password(length):\n",
    "    \"\"\"Generate a random password of the specified length.\"\"\"\n",
    "    characters = string.ascii_letters + string.digits + string.punctuation\n",
    "    password = ''.join(random.choice(characters) for _ in range(length))\n",
    "    return password\n",
    "\n",
    "def main():\n",
    "    print(\"Password Generator\")\n",
    "\n",
    "    try:\n",
    "        # User input for password length\n",
    "        length = int(input(\"Enter the desired length of the password: \"))\n",
    "\n",
    "        if length <= 0:\n",
    "            print(\"Invalid length. Please enter a positive integer.\")\n",
    "            return\n",
    "\n",
    "        # Generate and display the password\n",
    "        password = generate_password(length)\n",
    "        print(f\"\\nGenerated Password: {password}\")\n",
    "\n",
    "    except ValueError:\n",
    "        print(\"Invalid input. Please enter a valid integer for the password length.\")\n",
    "\n",
    "if __name__ == \"__main__\":\n",
    "    main()\n"
   ]
  },
  {
   "cell_type": "code",
   "execution_count": null,
   "id": "2dcd9b86",
   "metadata": {},
   "outputs": [],
   "source": []
  }
 ],
 "metadata": {
  "kernelspec": {
   "display_name": "Python 3 (ipykernel)",
   "language": "python",
   "name": "python3"
  },
  "language_info": {
   "codemirror_mode": {
    "name": "ipython",
    "version": 3
   },
   "file_extension": ".py",
   "mimetype": "text/x-python",
   "name": "python",
   "nbconvert_exporter": "python",
   "pygments_lexer": "ipython3",
   "version": "3.10.9"
  }
 },
 "nbformat": 4,
 "nbformat_minor": 5
}
