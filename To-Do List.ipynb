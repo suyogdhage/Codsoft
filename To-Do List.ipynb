{
 "cells": [
  {
   "cell_type": "code",
   "execution_count": 4,
   "id": "3348f662",
   "metadata": {},
   "outputs": [],
   "source": [
    "import tkinter as tk\n",
    "from tkinter import messagebox\n",
    "\n",
    "class TodoApp:\n",
    "    def __init__(self, root):\n",
    "        self.root = root\n",
    "        self.root.title(\"To-Do List App\")\n",
    "\n",
    "        self.tasks = []\n",
    "        self.task_listbox = tk.Listbox(root, selectmode=tk.SINGLE)\n",
    "        self.task_listbox.pack(pady=50)\n",
    "        self.new_task_entry = tk.Entry(root, width=50)\n",
    "        self.new_task_entry.pack(pady=10)\n",
    "        self.add_button = tk.Button(root, text=\"Add Task\", command=self.add_task)\n",
    "        self.add_button.pack(pady=10)\n",
    "        self.delete_button = tk.Button(root, text=\"Delete Task\", command=self.delete_task)\n",
    "        self.delete_button.pack(pady=10)\n",
    "        self.update_task_list()\n",
    "\n",
    "    def add_task(self):\n",
    "        new_task = self.new_task_entry.get()\n",
    "        if new_task:\n",
    "            self.tasks.append(new_task)\n",
    "            self.update_task_list() \n",
    "            self.new_task_entry.delete(0, tk.END)\n",
    "        else:\n",
    "            messagebox.showwarning(\"Warning\", \"Please enter a task.\")\n",
    "\n",
    "    def delete_task(self):\n",
    "        selected_index = self.task_listbox.curselection()\n",
    "        if selected_index:\n",
    "            selected_task = self.task_listbox.get(selected_index)\n",
    "            self.tasks.remove(selected_task)\n",
    "            self.update_task_list()\n",
    "\n",
    "    def update_task_list(self):\n",
    "        self.task_listbox.delete(0, tk.END)\n",
    "        for task in self.tasks:\n",
    "            self.task_listbox.insert(tk.END, task)\n",
    "\n",
    "if __name__ == \"__main__\":\n",
    "    root = tk.Tk()\n",
    "    app = TodoApp(root)\n",
    "    root.mainloop()\n"
   ]
  },
  {
   "cell_type": "code",
   "execution_count": null,
   "id": "67acafd2",
   "metadata": {},
   "outputs": [],
   "source": []
  }
 ],
 "metadata": {
  "kernelspec": {
   "display_name": "Python 3 (ipykernel)",
   "language": "python",
   "name": "python3"
  },
  "language_info": {
   "codemirror_mode": {
    "name": "ipython",
    "version": 3
   },
   "file_extension": ".py",
   "mimetype": "text/x-python",
   "name": "python",
   "nbconvert_exporter": "python",
   "pygments_lexer": "ipython3",
   "version": "3.10.9"
  }
 },
 "nbformat": 4,
 "nbformat_minor": 5
}
